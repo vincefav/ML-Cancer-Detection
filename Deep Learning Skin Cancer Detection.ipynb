{
 "cells": [
  {
   "cell_type": "code",
   "execution_count": 1,
   "metadata": {
    "collapsed": false
   },
   "outputs": [
    {
     "name": "stderr",
     "output_type": "stream",
     "text": [
      "C:\\Users\\Vince\\Anaconda3\\lib\\site-packages\\h5py\\__init__.py:34: FutureWarning: Conversion of the second argument of issubdtype from `float` to `np.floating` is deprecated. In future, it will be treated as `np.float64 == np.dtype(float).type`.\n",
      "  from ._conv import register_converters as _register_converters\n",
      "Using TensorFlow backend.\n"
     ]
    }
   ],
   "source": [
    "import os, cv2, random\n",
    "import numpy as np\n",
    "import pandas as pd\n",
    "\n",
    "import matplotlib.pyplot as plt\n",
    "from matplotlib import ticker\n",
    "import seaborn as sns\n",
    "%matplotlib inline \n",
    "\n",
    "from keras.models import Sequential\n",
    "from keras.layers import Input, Dropout, Flatten, Convolution2D, MaxPooling2D, Dense, Activation\n",
    "from keras.optimizers import RMSprop\n",
    "from keras.callbacks import ModelCheckpoint, Callback, EarlyStopping\n",
    "from keras.utils import np_utils\n",
    "\n",
    "from keras import backend as K\n",
    "K.set_image_data_format('channels_first')"
   ]
  },
  {
   "cell_type": "markdown",
   "metadata": {},
   "source": [
    "# Training data"
   ]
  },
  {
   "cell_type": "code",
   "execution_count": 2,
   "metadata": {
    "collapsed": false
   },
   "outputs": [],
   "source": [
    "from sklearn.datasets import load_files       \n",
    "from keras.utils import np_utils\n",
    "import numpy as np\n",
    "\n",
    "# define function to load train, test, and validation datasets\n",
    "def load_dataset(path):\n",
    "    num_classes = len(list(os.scandir(path)))\n",
    "    data = load_files(path)\n",
    "    files = np.array(data['filenames'])\n",
    "    targets = np_utils.to_categorical(np.array(data['target']), num_classes)\n",
    "    return files, targets\n",
    "\n",
    "FILES_DIR = os.path.abspath(\"D:\\\\Data\\\\Dermatology\\\\train\")\n",
    "train_files, ytrain = load_dataset(FILES_DIR)"
   ]
  },
  {
   "cell_type": "code",
   "execution_count": 3,
   "metadata": {
    "collapsed": false
   },
   "outputs": [
    {
     "name": "stderr",
     "output_type": "stream",
     "text": [
      "100%|██████████████████████████████████████| 2000/2000 [10:53<00:00,  3.06it/s]\n"
     ]
    }
   ],
   "source": [
    "from keras.preprocessing import image                  \n",
    "from tqdm import tqdm\n",
    "\n",
    "ksize = 5\n",
    "scalar = 0.4\n",
    "ROWS = int(128 * scalar)\n",
    "COLS = int(96 * scalar)\n",
    "\n",
    "CHANNELS = 3\n",
    "\n",
    "def path_to_tensor(img_path):\n",
    "    # loads RGB image as PIL.Image.Image type\n",
    "    img = image.load_img(img_path, target_size=(ROWS, COLS))\n",
    "    # convert PIL.Image.Image type to 3D tensor with shape (224, 224, 3)\n",
    "    x = image.img_to_array(img)\n",
    "    # convert 3D tensor to 4D tensor with shape (1, 224, 224, 3) and return 4D tensor\n",
    "    return np.expand_dims(x, axis=0)\n",
    "\n",
    "def paths_to_tensor(img_paths):\n",
    "    list_of_tensors = [path_to_tensor(img_path) for img_path in tqdm(img_paths)]\n",
    "    return np.vstack(list_of_tensors)\n",
    "\n",
    "from PIL import ImageFile                            \n",
    "ImageFile.LOAD_TRUNCATED_IMAGES = True                 \n",
    "\n",
    "# pre-process the data for Keras\n",
    "xtrain = paths_to_tensor(train_files).astype('float32')/255"
   ]
  },
  {
   "cell_type": "code",
   "execution_count": 4,
   "metadata": {
    "collapsed": false
   },
   "outputs": [
    {
     "data": {
      "text/plain": [
       "(2000, 3, 51, 38)"
      ]
     },
     "execution_count": 4,
     "metadata": {},
     "output_type": "execute_result"
    }
   ],
   "source": [
    "# Not currently needed; we have our validation data in a separate folder already\n",
    "\n",
    "# from sklearn.model_selection import train_test_split\n",
    "\n",
    "# xtrain, xtest, ytrain, ytest = train_test_split(train_tensors, train_targets, test_size=0.1)\n",
    "\n",
    "# Make sure to edit the NN so that\n",
    "# input_shape=(ROWS, COLS, CHANNELS) is accurate\n",
    "xtrain.shape"
   ]
  },
  {
   "cell_type": "markdown",
   "metadata": {},
   "source": [
    "# Validation data"
   ]
  },
  {
   "cell_type": "code",
   "execution_count": 5,
   "metadata": {
    "collapsed": true
   },
   "outputs": [],
   "source": [
    "# define function to load train, test, and validation datasets\n",
    "def load_dataset(path):\n",
    "    num_classes = len(list(os.scandir(path)))\n",
    "    data = load_files(path)\n",
    "    files = np.array(data['filenames'])\n",
    "    targets = np_utils.to_categorical(np.array(data['target']), num_classes)\n",
    "    return files, targets\n",
    "\n",
    "FILES_DIR = os.path.abspath(\"D:\\\\Data\\\\Dermatology\\\\valid\")\n",
    "valid_files, yval = load_dataset(FILES_DIR)"
   ]
  },
  {
   "cell_type": "code",
   "execution_count": 6,
   "metadata": {
    "collapsed": false
   },
   "outputs": [
    {
     "name": "stderr",
     "output_type": "stream",
     "text": [
      "100%|████████████████████████████████████████| 150/150 [01:54<00:00,  1.31it/s]\n"
     ]
    }
   ],
   "source": [
    "from keras.preprocessing import image                  \n",
    "from tqdm import tqdm\n",
    "\n",
    "# ksize = 5\n",
    "# ROWS = 128\n",
    "# COLS = 96\n",
    "\n",
    "# CHANNELS = 3\n",
    "\n",
    "def path_to_tensor(img_path):\n",
    "    # loads RGB image as PIL.Image.Image type\n",
    "    img = image.load_img(img_path, target_size=(ROWS, COLS))\n",
    "    # convert PIL.Image.Image type to 3D tensor with shape (224, 224, 3)\n",
    "    x = image.img_to_array(img)\n",
    "    # convert 3D tensor to 4D tensor with shape (1, 224, 224, 3) and return 4D tensor\n",
    "    return np.expand_dims(x, axis=0)\n",
    "\n",
    "def paths_to_tensor(img_paths):\n",
    "    list_of_tensors = [path_to_tensor(img_path) for img_path in tqdm(img_paths)]\n",
    "    return np.vstack(list_of_tensors)\n",
    "\n",
    "from PIL import ImageFile                            \n",
    "ImageFile.LOAD_TRUNCATED_IMAGES = True                 \n",
    "\n",
    "# pre-process the data for Keras\n",
    "xval = paths_to_tensor(valid_files).astype('float32')/255"
   ]
  },
  {
   "cell_type": "markdown",
   "metadata": {},
   "source": [
    "# Standard CNN\n",
    "\n",
    "A pretty run-of-the-mill CNN that uses convolutions and max pooling. Performs poorly."
   ]
  },
  {
   "cell_type": "code",
   "execution_count": 7,
   "metadata": {
    "collapsed": false
   },
   "outputs": [
    {
     "name": "stdout",
     "output_type": "stream",
     "text": [
      "_________________________________________________________________\n",
      "Layer (type)                 Output Shape              Param #   \n",
      "=================================================================\n",
      "conv2d_1 (Conv2D)            (None, 32, 51, 38)        2432      \n",
      "_________________________________________________________________\n",
      "conv2d_2 (Conv2D)            (None, 64, 51, 38)        51264     \n",
      "_________________________________________________________________\n",
      "max_pooling2d_1 (MaxPooling2 (None, 64, 25, 19)        0         \n",
      "_________________________________________________________________\n",
      "conv2d_3 (Conv2D)            (None, 64, 25, 19)        102464    \n",
      "_________________________________________________________________\n",
      "max_pooling2d_2 (MaxPooling2 (None, 64, 12, 9)         0         \n",
      "_________________________________________________________________\n",
      "conv2d_4 (Conv2D)            (None, 128, 12, 9)        204928    \n",
      "_________________________________________________________________\n",
      "max_pooling2d_3 (MaxPooling2 (None, 128, 6, 4)         0         \n",
      "_________________________________________________________________\n",
      "conv2d_5 (Conv2D)            (None, 256, 6, 4)         819456    \n",
      "_________________________________________________________________\n",
      "max_pooling2d_4 (MaxPooling2 (None, 256, 3, 2)         0         \n",
      "_________________________________________________________________\n",
      "flatten_1 (Flatten)          (None, 1536)              0         \n",
      "_________________________________________________________________\n",
      "dense_1 (Dense)              (None, 3072)              4721664   \n",
      "_________________________________________________________________\n",
      "dropout_1 (Dropout)          (None, 3072)              0         \n",
      "_________________________________________________________________\n",
      "dense_2 (Dense)              (None, 128)               393344    \n",
      "_________________________________________________________________\n",
      "dropout_2 (Dropout)          (None, 128)               0         \n",
      "_________________________________________________________________\n",
      "dense_3 (Dense)              (None, 3)                 387       \n",
      "_________________________________________________________________\n",
      "activation_1 (Activation)    (None, 3)                 0         \n",
      "=================================================================\n",
      "Total params: 6,295,939\n",
      "Trainable params: 6,295,939\n",
      "Non-trainable params: 0\n",
      "_________________________________________________________________\n"
     ]
    }
   ],
   "source": [
    "from keras.callbacks import EarlyStopping, ReduceLROnPlateau\n",
    "from keras.layers import GlobalAveragePooling2D\n",
    "\n",
    "rlr = ReduceLROnPlateau(factor=.01, patience=2)\n",
    "es = EarlyStopping(monitor='val_acc', patience=0)\n",
    "\n",
    "\n",
    "model = Sequential()\n",
    "\n",
    "model.add(Convolution2D(32, kernel_size=(ksize, ksize), padding='same',\n",
    "                        input_shape=(CHANNELS, ROWS, COLS),\n",
    "                        activation='relu',\n",
    "                        data_format=\"channels_first\"))\n",
    "model.add(Convolution2D(64, kernel_size=(ksize, ksize), padding='same', activation='relu',\n",
    "                        data_format=\"channels_first\"))\n",
    "model.add(MaxPooling2D(pool_size=(2, 2), strides=[2,2], data_format=\"channels_first\"))\n",
    "\n",
    "\n",
    "model.add(Convolution2D(64, kernel_size=(ksize, ksize), padding='same', activation='relu',\n",
    "                        data_format=\"channels_first\"))\n",
    "model.add(MaxPooling2D(pool_size=(2, 2), strides=[2,2], data_format=\"channels_first\"))\n",
    "\n",
    "\n",
    "model.add(Convolution2D(128, kernel_size=(ksize, ksize), padding='same', activation='relu',\n",
    "                        data_format=\"channels_first\"))\n",
    "model.add(MaxPooling2D(pool_size=(2, 2), strides=[2,2], data_format=\"channels_first\"))\n",
    "\n",
    "\n",
    "model.add(Convolution2D(256, kernel_size=(ksize, ksize), padding='same', activation='relu',\n",
    "                        data_format=\"channels_first\"))\n",
    "model.add(MaxPooling2D(pool_size=(2, 2), strides=[2,2], data_format=\"channels_first\",))\n",
    "\n",
    "model.add(Flatten())\n",
    "\n",
    "model.add(Dense(3072, activation='relu'))\n",
    "model.add(Dropout(0.1))\n",
    "\n",
    "model.add(Dense(128, activation='relu'))\n",
    "model.add(Dropout(0.1))\n",
    "\n",
    "\n",
    "model.add(Dense(3))\n",
    "model.add(Activation('softmax'))\n",
    "\n",
    "model.summary()"
   ]
  },
  {
   "cell_type": "code",
   "execution_count": 8,
   "metadata": {
    "collapsed": false
   },
   "outputs": [
    {
     "name": "stdout",
     "output_type": "stream",
     "text": [
      "150/150 [==============================] - ETA: 0s\b\b\b\b\b\b\b\b\b\b\b\b\b\b\b\b\b\b\b\b\b\b\b\b\b\b\b\b\b\b\b\b\b\b\b\b\b\b\b\b\b\b\b\b\b\b\b\b\b\b - ETA: 0s\b\b\b\b\b\b\b\b\b\b\b\b\b\b\b\b\b\b\b\b\b\b\b\b\b\b\b\b\b\b\b\b\b\b\b\b\b\b\b\b\b\b\b\b\b\b\b\b\b\b - 0s 1ms/step\n"
     ]
    },
    {
     "data": {
      "text/plain": [
       "0.5199999984105428"
      ]
     },
     "execution_count": 8,
     "metadata": {},
     "output_type": "execute_result"
    }
   ],
   "source": [
    "model.compile(loss='categorical_crossentropy',\n",
    "              optimizer='adam',\n",
    "              metrics=['accuracy'])\n",
    "\n",
    "model.fit(xtrain, ytrain, epochs=200, batch_size=128,\n",
    "          callbacks=[es, rlr], validation_data=(xval, yval), verbose=0)\n",
    "\n",
    "loss, acc = model.evaluate(xval, yval)\n",
    "\n",
    "acc"
   ]
  },
  {
   "cell_type": "markdown",
   "metadata": {},
   "source": [
    "# VGG"
   ]
  },
  {
   "cell_type": "code",
   "execution_count": 11,
   "metadata": {
    "collapsed": false
   },
   "outputs": [
    {
     "name": "stdout",
     "output_type": "stream",
     "text": [
      "_________________________________________________________________\n",
      "Layer (type)                 Output Shape              Param #   \n",
      "=================================================================\n",
      "conv2d_11 (Conv2D)           (None, 64, 51, 38)        4864      \n",
      "_________________________________________________________________\n",
      "conv2d_12 (Conv2D)           (None, 64, 51, 38)        102464    \n",
      "_________________________________________________________________\n",
      "max_pooling2d_9 (MaxPooling2 (None, 64, 25, 19)        0         \n",
      "_________________________________________________________________\n",
      "conv2d_13 (Conv2D)           (None, 128, 25, 19)       204928    \n",
      "_________________________________________________________________\n",
      "conv2d_14 (Conv2D)           (None, 128, 25, 19)       409728    \n",
      "_________________________________________________________________\n",
      "max_pooling2d_10 (MaxPooling (None, 128, 12, 9)        0         \n",
      "_________________________________________________________________\n",
      "conv2d_15 (Conv2D)           (None, 128, 12, 9)        409728    \n",
      "_________________________________________________________________\n",
      "conv2d_16 (Conv2D)           (None, 256, 12, 9)        819456    \n",
      "_________________________________________________________________\n",
      "conv2d_17 (Conv2D)           (None, 256, 12, 9)        1638656   \n",
      "_________________________________________________________________\n",
      "max_pooling2d_11 (MaxPooling (None, 256, 6, 4)         0         \n",
      "_________________________________________________________________\n",
      "conv2d_18 (Conv2D)           (None, 512, 6, 4)         3277312   \n",
      "_________________________________________________________________\n",
      "conv2d_19 (Conv2D)           (None, 512, 6, 4)         6554112   \n",
      "_________________________________________________________________\n",
      "conv2d_20 (Conv2D)           (None, 512, 6, 4)         6554112   \n",
      "_________________________________________________________________\n",
      "max_pooling2d_12 (MaxPooling (None, 512, 3, 2)         0         \n",
      "_________________________________________________________________\n",
      "conv2d_21 (Conv2D)           (None, 512, 3, 2)         6554112   \n",
      "_________________________________________________________________\n",
      "conv2d_22 (Conv2D)           (None, 512, 3, 2)         6554112   \n",
      "_________________________________________________________________\n",
      "conv2d_23 (Conv2D)           (None, 512, 3, 2)         6554112   \n",
      "_________________________________________________________________\n",
      "max_pooling2d_13 (MaxPooling (None, 512, 1, 1)         0         \n",
      "_________________________________________________________________\n",
      "flatten_3 (Flatten)          (None, 512)               0         \n",
      "_________________________________________________________________\n",
      "dense_7 (Dense)              (None, 1024)              525312    \n",
      "_________________________________________________________________\n",
      "dropout_5 (Dropout)          (None, 1024)              0         \n",
      "_________________________________________________________________\n",
      "dense_8 (Dense)              (None, 128)               131200    \n",
      "_________________________________________________________________\n",
      "dropout_6 (Dropout)          (None, 128)               0         \n",
      "_________________________________________________________________\n",
      "dense_9 (Dense)              (None, 3)                 387       \n",
      "_________________________________________________________________\n",
      "activation_4 (Activation)    (None, 3)                 0         \n",
      "=================================================================\n",
      "Total params: 40,294,595\n",
      "Trainable params: 40,294,595\n",
      "Non-trainable params: 0\n",
      "_________________________________________________________________\n"
     ]
    }
   ],
   "source": [
    "from keras.layers import GlobalAveragePooling2D\n",
    "\n",
    "model = Sequential()\n",
    "\n",
    "model.add(Convolution2D(64, kernel_size=(ksize, ksize), padding='same',\n",
    "                        input_shape=(CHANNELS, ROWS, COLS),\n",
    "                        activation='relu',\n",
    "                        data_format=\"channels_first\"))\n",
    "model.add(Convolution2D(64, kernel_size=(ksize, ksize), padding='same', activation='relu',\n",
    "                        data_format=\"channels_first\"))\n",
    "model.add(MaxPooling2D(pool_size=(2, 2), strides=[2,2], data_format=\"channels_first\"))\n",
    "\n",
    "\n",
    "model.add(Convolution2D(128, kernel_size=(ksize, ksize), padding='same', activation='relu',\n",
    "                        data_format=\"channels_first\"))\n",
    "model.add(Convolution2D(128, kernel_size=(ksize, ksize), padding='same', activation='relu',\n",
    "                        data_format=\"channels_first\"))\n",
    "model.add(MaxPooling2D(pool_size=(2, 2), strides=[2,2], data_format=\"channels_first\"))\n",
    "\n",
    "\n",
    "model.add(Convolution2D(128, kernel_size=(ksize, ksize), padding='same', activation='relu',\n",
    "                        data_format=\"channels_first\"))\n",
    "model.add(Convolution2D(256, kernel_size=(ksize, ksize), padding='same', activation='relu',\n",
    "                        data_format=\"channels_first\"))\n",
    "model.add(Convolution2D(256, kernel_size=(ksize, ksize), padding='same', activation='relu',\n",
    "                        data_format=\"channels_first\"))\n",
    "model.add(MaxPooling2D(pool_size=(2, 2), strides=[2,2], data_format=\"channels_first\"))\n",
    "\n",
    "\n",
    "model.add(Convolution2D(512, kernel_size=(ksize, ksize), padding='same', activation='relu',\n",
    "                        data_format=\"channels_first\"))\n",
    "model.add(Convolution2D(512, kernel_size=(ksize, ksize), padding='same', activation='relu',\n",
    "                        data_format=\"channels_first\"))\n",
    "model.add(Convolution2D(512, kernel_size=(ksize, ksize), padding='same', activation='relu',\n",
    "                        data_format=\"channels_first\"))\n",
    "model.add(MaxPooling2D(pool_size=(2, 2), strides=[2,2], data_format=\"channels_first\"))\n",
    "\n",
    "\n",
    "model.add(Convolution2D(512, kernel_size=(ksize, ksize), padding='same', activation='relu',\n",
    "                        data_format=\"channels_first\"))\n",
    "model.add(Convolution2D(512, kernel_size=(ksize, ksize), padding='same', activation='relu',\n",
    "                        data_format=\"channels_first\"))\n",
    "model.add(Convolution2D(512, kernel_size=(ksize, ksize), padding='same', activation='relu',\n",
    "                        data_format=\"channels_first\"))\n",
    "model.add(MaxPooling2D(pool_size=(2, 2), strides=[2,2], data_format=\"channels_first\"))\n",
    "# model.add(GlobalAveragePooling2D())\n",
    "\n",
    "model.add(Flatten())\n",
    "\n",
    "model.add(Dense(1024, activation='relu'))\n",
    "model.add(Dropout(0.1))\n",
    "\n",
    "model.add(Dense(128, activation='relu'))\n",
    "model.add(Dropout(0.1))\n",
    "\n",
    "# if i == True:\n",
    "#     model.add(Dense(512, activation='relu'))\n",
    "#     model.add(Dropout(0.5))\n",
    "\n",
    "model.add(Dense(3))\n",
    "model.add(Activation('softmax'))\n",
    "\n",
    "model.summary()"
   ]
  },
  {
   "cell_type": "code",
   "execution_count": 12,
   "metadata": {
    "collapsed": false
   },
   "outputs": [
    {
     "name": "stdout",
     "output_type": "stream",
     "text": [
      "150/150 [==============================] - ETA: 1s\b\b\b\b\b\b\b\b\b\b\b\b\b\b\b\b\b\b\b\b\b\b\b\b\b\b\b\b\b\b\b\b\b\b\b\b\b\b\b\b\b\b\b\b\b\b\b\b\b\b - ETA: 0s\b\b\b\b\b\b\b\b\b\b\b\b\b\b\b\b\b\b\b\b\b\b\b\b\b\b\b\b\b\b\b\b\b\b\b\b\b\b\b\b\b\b\b\b\b\b\b\b\b\b - ETA: 0s\b\b\b\b\b\b\b\b\b\b\b\b\b\b\b\b\b\b\b\b\b\b\b\b\b\b\b\b\b\b\b\b\b\b\b\b\b\b\b\b\b\b\b\b\b\b\b\b\b\b - ETA: 0s\b\b\b\b\b\b\b\b\b\b\b\b\b\b\b\b\b\b\b\b\b\b\b\b\b\b\b\b\b\b\b\b\b\b\b\b\b\b\b\b\b\b\b\b\b\b\b\b\b\b - 1s 4ms/step\n"
     ]
    },
    {
     "data": {
      "text/plain": [
       "0.5199999984105428"
      ]
     },
     "execution_count": 12,
     "metadata": {},
     "output_type": "execute_result"
    }
   ],
   "source": [
    "model.compile(loss='categorical_crossentropy',\n",
    "              optimizer='adam',\n",
    "              metrics=['accuracy'])\n",
    "\n",
    "model.fit(xtrain, ytrain, epochs=200, batch_size=128,\n",
    "          callbacks=[es, rlr], validation_data=(xval, yval), verbose=0)\n",
    "\n",
    "loss, acc = model.evaluate(xval, yval)\n",
    "\n",
    "acc"
   ]
  },
  {
   "cell_type": "markdown",
   "metadata": {},
   "source": [
    "# VGG with center normalizing"
   ]
  },
  {
   "cell_type": "code",
   "execution_count": 15,
   "metadata": {
    "collapsed": false
   },
   "outputs": [
    {
     "name": "stdout",
     "output_type": "stream",
     "text": [
      "_________________________________________________________________\n",
      "Layer (type)                 Output Shape              Param #   \n",
      "=================================================================\n",
      "activation_7 (Activation)    (None, 3, 64, 48)         0         \n",
      "_________________________________________________________________\n",
      "conv2d_29 (Conv2D)           (None, 64, 64, 48)        4864      \n",
      "_________________________________________________________________\n",
      "conv2d_30 (Conv2D)           (None, 64, 64, 48)        102464    \n",
      "_________________________________________________________________\n",
      "max_pooling2d_18 (MaxPooling (None, 64, 32, 24)        0         \n",
      "_________________________________________________________________\n",
      "conv2d_31 (Conv2D)           (None, 128, 32, 24)       204928    \n",
      "_________________________________________________________________\n",
      "conv2d_32 (Conv2D)           (None, 128, 32, 24)       409728    \n",
      "_________________________________________________________________\n",
      "max_pooling2d_19 (MaxPooling (None, 128, 16, 12)       0         \n",
      "_________________________________________________________________\n",
      "conv2d_33 (Conv2D)           (None, 128, 16, 12)       409728    \n",
      "_________________________________________________________________\n",
      "conv2d_34 (Conv2D)           (None, 256, 16, 12)       819456    \n",
      "_________________________________________________________________\n",
      "conv2d_35 (Conv2D)           (None, 256, 16, 12)       1638656   \n",
      "_________________________________________________________________\n",
      "max_pooling2d_20 (MaxPooling (None, 256, 8, 6)         0         \n",
      "_________________________________________________________________\n",
      "conv2d_36 (Conv2D)           (None, 512, 8, 6)         3277312   \n",
      "_________________________________________________________________\n",
      "conv2d_37 (Conv2D)           (None, 512, 8, 6)         6554112   \n",
      "_________________________________________________________________\n",
      "conv2d_38 (Conv2D)           (None, 512, 8, 6)         6554112   \n",
      "_________________________________________________________________\n",
      "max_pooling2d_21 (MaxPooling (None, 512, 4, 3)         0         \n",
      "_________________________________________________________________\n",
      "conv2d_39 (Conv2D)           (None, 512, 4, 3)         6554112   \n",
      "_________________________________________________________________\n",
      "conv2d_40 (Conv2D)           (None, 512, 4, 3)         6554112   \n",
      "_________________________________________________________________\n",
      "conv2d_41 (Conv2D)           (None, 512, 4, 3)         6554112   \n",
      "_________________________________________________________________\n",
      "max_pooling2d_22 (MaxPooling (None, 512, 2, 1)         0         \n",
      "_________________________________________________________________\n",
      "flatten_5 (Flatten)          (None, 1024)              0         \n",
      "_________________________________________________________________\n",
      "dense_13 (Dense)             (None, 1024)              1049600   \n",
      "_________________________________________________________________\n",
      "dropout_9 (Dropout)          (None, 1024)              0         \n",
      "_________________________________________________________________\n",
      "dense_14 (Dense)             (None, 128)               131200    \n",
      "_________________________________________________________________\n",
      "dropout_10 (Dropout)         (None, 128)               0         \n",
      "_________________________________________________________________\n",
      "dense_15 (Dense)             (None, 3)                 387       \n",
      "_________________________________________________________________\n",
      "activation_8 (Activation)    (None, 3)                 0         \n",
      "=================================================================\n",
      "Total params: 40,818,883\n",
      "Trainable params: 40,818,883\n",
      "Non-trainable params: 0\n",
      "_________________________________________________________________\n"
     ]
    }
   ],
   "source": [
    "from keras.layers import Activation\n",
    "\n",
    "def center_normalize(x):\n",
    "    return (x-K.mean(x))/K.std(x)\n",
    "\n",
    "model=Sequential()\n",
    "model.add(Activation(activation=center_normalize, input_shape=(CHANNELS, ROWS, COLS),))\n",
    "\n",
    "model.add(Convolution2D(64, kernel_size=(ksize, ksize), padding='same',\n",
    "                        input_shape=(CHANNELS, ROWS, COLS),\n",
    "                        activation='relu',\n",
    "                        data_format=\"channels_first\"))\n",
    "model.add(Convolution2D(64, kernel_size=(ksize, ksize), padding='same', activation='relu',\n",
    "                        data_format=\"channels_first\"))\n",
    "model.add(MaxPooling2D(pool_size=(2, 2), strides=[2,2], data_format=\"channels_first\"))\n",
    "\n",
    "\n",
    "model.add(Convolution2D(128, kernel_size=(ksize, ksize), padding='same', activation='relu',\n",
    "                        data_format=\"channels_first\"))\n",
    "model.add(Convolution2D(128, kernel_size=(ksize, ksize), padding='same', activation='relu',\n",
    "                        data_format=\"channels_first\"))\n",
    "model.add(MaxPooling2D(pool_size=(2, 2), strides=[2,2], data_format=\"channels_first\"))\n",
    "\n",
    "\n",
    "model.add(Convolution2D(128, kernel_size=(ksize, ksize), padding='same', activation='relu',\n",
    "                        data_format=\"channels_first\"))\n",
    "model.add(Convolution2D(256, kernel_size=(ksize, ksize), padding='same', activation='relu',\n",
    "                        data_format=\"channels_first\"))\n",
    "model.add(Convolution2D(256, kernel_size=(ksize, ksize), padding='same', activation='relu',\n",
    "                        data_format=\"channels_first\"))\n",
    "model.add(MaxPooling2D(pool_size=(2, 2), strides=[2,2], data_format=\"channels_first\"))\n",
    "\n",
    "\n",
    "model.add(Convolution2D(512, kernel_size=(ksize, ksize), padding='same', activation='relu',\n",
    "                        data_format=\"channels_first\"))\n",
    "model.add(Convolution2D(512, kernel_size=(ksize, ksize), padding='same', activation='relu',\n",
    "                        data_format=\"channels_first\"))\n",
    "model.add(Convolution2D(512, kernel_size=(ksize, ksize), padding='same', activation='relu',\n",
    "                        data_format=\"channels_first\"))\n",
    "model.add(MaxPooling2D(pool_size=(2, 2), strides=[2,2], data_format=\"channels_first\"))\n",
    "\n",
    "\n",
    "model.add(Convolution2D(512, kernel_size=(ksize, ksize), padding='same', activation='relu',\n",
    "                        data_format=\"channels_first\"))\n",
    "model.add(Convolution2D(512, kernel_size=(ksize, ksize), padding='same', activation='relu',\n",
    "                        data_format=\"channels_first\"))\n",
    "model.add(Convolution2D(512, kernel_size=(ksize, ksize), padding='same', activation='relu',\n",
    "                        data_format=\"channels_first\"))\n",
    "model.add(MaxPooling2D(pool_size=(2, 2), strides=[2,2], data_format=\"channels_first\"))\n",
    "# model.add(GlobalAveragePooling2D())\n",
    "\n",
    "model.add(Flatten())\n",
    "\n",
    "model.add(Dense(1024, activation='relu'))\n",
    "model.add(Dropout(0.1))\n",
    "\n",
    "model.add(Dense(128, activation='relu'))\n",
    "model.add(Dropout(0.1))\n",
    "\n",
    "# if i == True:\n",
    "#     model.add(Dense(512, activation='relu'))\n",
    "#     model.add(Dropout(0.5))\n",
    "\n",
    "model.add(Dense(3))\n",
    "model.add(Activation('softmax'))\n",
    "\n",
    "model.summary()"
   ]
  },
  {
   "cell_type": "code",
   "execution_count": 16,
   "metadata": {
    "collapsed": false
   },
   "outputs": [
    {
     "name": "stdout",
     "output_type": "stream",
     "text": [
      "150/150 [==============================] - ETA: 0s\b\b\b\b\b\b\b\b\b\b\b\b\b\b\b\b\b\b\b\b\b\b\b\b\b\b\b\b\b\b\b\b\b\b\b\b\b\b\b\b\b\b\b\b\b\b\b\b\b\b - ETA: 0s\b\b\b\b\b\b\b\b\b\b\b\b\b\b\b\b\b\b\b\b\b\b\b\b\b\b\b\b\b\b\b\b\b\b\b\b\b\b\b\b\b\b\b\b\b\b\b\b\b\b - ETA: 0s\b\b\b\b\b\b\b\b\b\b\b\b\b\b\b\b\b\b\b\b\b\b\b\b\b\b\b\b\b\b\b\b\b\b\b\b\b\b\b\b\b\b\b\b\b\b\b\b\b\b - ETA: 0s\b\b\b\b\b\b\b\b\b\b\b\b\b\b\b\b\b\b\b\b\b\b\b\b\b\b\b\b\b\b\b\b\b\b\b\b\b\b\b\b\b\b\b\b\b\b\b\b\b\b - 1s 4ms/step\n"
     ]
    },
    {
     "data": {
      "text/plain": [
       "0.5199999984105428"
      ]
     },
     "execution_count": 16,
     "metadata": {},
     "output_type": "execute_result"
    }
   ],
   "source": [
    "model.compile(loss='categorical_crossentropy',\n",
    "              optimizer='adam',\n",
    "              metrics=['accuracy'])\n",
    "\n",
    "model.fit(xtrain, ytrain, epochs=200, batch_size=16,\n",
    "          callbacks=[es, rlr], validation_data=(xval, yval), verbose=0)\n",
    "\n",
    "loss, acc = model.evaluate(xval, yval)\n",
    "\n",
    "acc"
   ]
  },
  {
   "cell_type": "markdown",
   "metadata": {},
   "source": [
    "# Others\n",
    "\n",
    "## 2 layer"
   ]
  },
  {
   "cell_type": "code",
   "execution_count": 13,
   "metadata": {
    "collapsed": false
   },
   "outputs": [
    {
     "name": "stdout",
     "output_type": "stream",
     "text": [
      "150/150 [==============================] - ETA: 0s\b\b\b\b\b\b\b\b\b\b\b\b\b\b\b\b\b\b\b\b\b\b\b\b\b\b\b\b\b\b\b\b\b\b\b\b\b\b\b\b\b\b\b\b\b\b\b\b\b\b - 0s 286us/step\n"
     ]
    },
    {
     "data": {
      "text/plain": [
       "0.7511111442248026"
      ]
     },
     "execution_count": 13,
     "metadata": {},
     "output_type": "execute_result"
    }
   ],
   "source": [
    "from keras.optimizers import Adam\n",
    "from keras.callbacks import ReduceLROnPlateau\n",
    "\n",
    "rlr = ReduceLROnPlateau(factor=.01, patience=2)\n",
    "es = EarlyStopping(monitor='val_acc', patience=5)\n",
    "\n",
    "\n",
    "adam = Optimizer=Adam(lr=0.001)\n",
    "\n",
    "def center_normalize(x):\n",
    "    return (x-K.mean(x))/K.std(x)\n",
    "\n",
    "model=Sequential()\n",
    "model.add(Activation(activation=center_normalize, input_shape=(CHANNELS, ROWS, COLS),))\n",
    "\n",
    "model.add(Flatten())\n",
    "model.add(Dense(256, activation='sigmoid'))\n",
    "\n",
    "model.add(Dense(256, activation='relu'))\n",
    "model.add(Dense(256, activation='sigmoid'))\n",
    "\n",
    "\n",
    "model.add(Dense(3))\n",
    "model.add(Activation('softmax'))\n",
    "model.compile(loss='binary_crossentropy', optimizer='adam', metrics=['accuracy'])\n",
    "\n",
    "model.fit(xtrain, ytrain, epochs=200, batch_size=64,\n",
    "          callbacks=[es, rlr], validation_data=(xval, yval), verbose=0)\n",
    "\n",
    "loss, acc = model.evaluate(xval, yval)\n",
    "\n",
    "acc"
   ]
  },
  {
   "cell_type": "code",
   "execution_count": null,
   "metadata": {
    "collapsed": false
   },
   "outputs": [
    {
     "name": "stdout",
     "output_type": "stream",
     "text": [
      "150/150 [==============================] - ETA: 0s\b\b\b\b\b\b\b\b\b\b\b\b\b\b\b\b\b\b\b\b\b\b\b\b\b\b\b\b\b\b\b\b\b\b\b\b\b\b\b\b\b\b\b\b\b\b\b\b\b\b - 0s 320us/step\n"
     ]
    },
    {
     "data": {
      "text/plain": [
       "0.7422222526868184"
      ]
     },
     "execution_count": 14,
     "metadata": {},
     "output_type": "execute_result"
    }
   ],
   "source": [
    "from keras.optimizers import Adam\n",
    "from keras.callbacks import ReduceLROnPlateau\n",
    "\n",
    "rlr = ReduceLROnPlateau(factor=.01, patience=2)\n",
    "es = EarlyStopping(monitor='val_acc', patience=5)\n",
    "\n",
    "\n",
    "adam = Optimizer=Adam(lr=0.001)\n",
    "\n",
    "def center_normalize(x):\n",
    "    return (x-K.mean(x))/K.std(x)\n",
    "\n",
    "model=Sequential()\n",
    "model.add(Activation(activation=center_normalize, input_shape=(CHANNELS, ROWS, COLS),))\n",
    "\n",
    "# convolutional layer\n",
    "model.add(Convolution2D(16, kernel_size=(ksize, ksize), activation='relu',\n",
    "                        data_format='channels_first', padding='same'))\n",
    "#pooling layer\n",
    "model.add(MaxPooling2D(pool_size=(2,2), data_format='channels_first'))\n",
    "\n",
    "model.add(Flatten())\n",
    "\n",
    "model.add(Dense(256, activation='sigmoid'))\n",
    "model.add(Dense(256, activation='relu'))\n",
    "model.add(Dense(256, activation='sigmoid'))\n",
    "\n",
    "\n",
    "model.add(Dense(3))\n",
    "model.add(Activation('softmax'))\n",
    "model.compile(loss='binary_crossentropy', optimizer=adam, metrics=['accuracy'])\n",
    "\n",
    "model.fit(xtrain, ytrain, epochs=200, batch_size=64,\n",
    "          callbacks=[es, rlr], validation_data=(xval, yval), verbose=0)\n",
    "\n",
    "loss, acc = model.evaluate(xval, yval)\n",
    "\n",
    "acc"
   ]
  },
  {
   "cell_type": "code",
   "execution_count": null,
   "metadata": {
    "collapsed": false
   },
   "outputs": [
    {
     "name": "stdout",
     "output_type": "stream",
     "text": [
      "_________________________________________________________________\n",
      "Layer (type)                 Output Shape              Param #   \n",
      "=================================================================\n",
      "activation_9 (Activation)    (None, 3, 51, 38)         0         \n",
      "_________________________________________________________________\n",
      "conv2d_25 (Conv2D)           (None, 16, 51, 38)        1216      \n",
      "_________________________________________________________________\n",
      "max_pooling2d_15 (MaxPooling (None, 16, 25, 19)        0         \n",
      "_________________________________________________________________\n",
      "conv2d_26 (Conv2D)           (None, 32, 25, 19)        12832     \n",
      "_________________________________________________________________\n",
      "max_pooling2d_16 (MaxPooling (None, 32, 12, 9)         0         \n",
      "_________________________________________________________________\n",
      "flatten_6 (Flatten)          (None, 3456)              0         \n",
      "_________________________________________________________________\n",
      "dense_18 (Dense)             (None, 2048)              7079936   \n",
      "_________________________________________________________________\n",
      "dense_19 (Dense)             (None, 128)               262272    \n",
      "_________________________________________________________________\n",
      "dense_20 (Dense)             (None, 3)                 387       \n",
      "=================================================================\n",
      "Total params: 7,356,643\n",
      "Trainable params: 7,356,643\n",
      "Non-trainable params: 0\n",
      "_________________________________________________________________\n"
     ]
    }
   ],
   "source": [
    "from keras.optimizers import Adam\n",
    "from keras.callbacks import ReduceLROnPlateau\n",
    "\n",
    "rlr = ReduceLROnPlateau(factor=.01, patience=2)\n",
    "es = EarlyStopping(monitor='val_acc', patience=5)\n",
    "\n",
    "\n",
    "adam = Optimizer=Adam(lr=0.001)\n",
    "\n",
    "def center_normalize(x):\n",
    "    return (x-K.mean(x))/K.std(x)\n",
    "\n",
    "model=Sequential()\n",
    "model.add(Activation(activation=center_normalize, input_shape=(CHANNELS, ROWS, COLS),))\n",
    "\n",
    "# convolutional layer\n",
    "model.add(Convolution2D(16, kernel_size=(ksize, ksize), activation='relu',\n",
    "                        data_format='channels_first', padding='same'))\n",
    "#pooling layer\n",
    "model.add(MaxPooling2D(pool_size=(2,2), data_format='channels_first'))\n",
    "\n",
    "# convolutional layer\n",
    "model.add(Convolution2D(32, kernel_size=(ksize, ksize), activation='relu',\n",
    "                        data_format='channels_first', padding='same'))\n",
    "#pooling layer\n",
    "model.add(MaxPooling2D(pool_size=(2,2), data_format='channels_first'))\n",
    "\n",
    "model.add(Flatten())\n",
    "\n",
    "# Relu \n",
    "model.add(Dense(2048, activation='relu'))\n",
    "\n",
    "model.add(Dense(128, activation='relu'))\n",
    "\n",
    "\n",
    "model.add(Dense(3))\n",
    "\n",
    "model.summary()\n",
    "model.add(Activation('softmax'))\n",
    "model.compile(loss='binary_crossentropy', optimizer=adam, metrics=['accuracy'])\n",
    "\n",
    "model.fit(xtrain, ytrain, epochs=200, batch_size=64,\n",
    "          callbacks=[es, rlr], validation_data=(xval, yval), verbose=0)\n",
    "\n",
    "loss, acc = model.evaluate(xval, yval)\n",
    "\n",
    "acc"
   ]
  },
  {
   "cell_type": "code",
   "execution_count": 20,
   "metadata": {
    "collapsed": true
   },
   "outputs": [],
   "source": [
    "# yval_binary = np.where(np.argmax(yval, axis=1) == 1, 0, 1)"
   ]
  },
  {
   "cell_type": "markdown",
   "metadata": {},
   "source": [
    "# How to predict a single image\n",
    "\n",
    "Just for illustrative purposes, I grabbed an image from the training set."
   ]
  },
  {
   "cell_type": "code",
   "execution_count": 10,
   "metadata": {
    "collapsed": true
   },
   "outputs": [],
   "source": [
    "img = os.path.abspath(\"D:\\\\Data\\\\Dermatology\\\\train\\\\nevus\\\\ISIC_0000001.jpg\")"
   ]
  },
  {
   "cell_type": "code",
   "execution_count": 13,
   "metadata": {
    "collapsed": true
   },
   "outputs": [],
   "source": [
    "from tqdm import tqdm\n",
    "\n",
    "ksize = 5\n",
    "scalar = 0.5\n",
    "ROWS = int(128 * scalar)\n",
    "COLS = int(96 * scalar)\n",
    "\n",
    "CHANNELS = 3\n",
    "\n",
    "def path_to_tensor(img_path):\n",
    "    # loads RGB image as PIL.Image.Image type\n",
    "    img = image.load_img(img_path, target_size=(ROWS, COLS))\n",
    "    # convert PIL.Image.Image type to 3D tensor with shape (224, 224, 3)\n",
    "    x = image.img_to_array(img)\n",
    "    # convert 3D tensor to 4D tensor with shape (1, 224, 224, 3) and return 4D tensor\n",
    "    return np.expand_dims(x, axis=0)\n",
    "\n",
    "def paths_to_tensor(img):\n",
    "    list_of_tensors = [path_to_tensor(img)]\n",
    "    return np.vstack(list_of_tensors)\n",
    "\n",
    "from PIL import ImageFile                            \n",
    "ImageFile.LOAD_TRUNCATED_IMAGES = True                 \n",
    "\n",
    "# pre-process the data for Keras\n",
    "img = paths_to_tensor(img).astype('float32')/255"
   ]
  },
  {
   "cell_type": "code",
   "execution_count": 14,
   "metadata": {
    "collapsed": false
   },
   "outputs": [
    {
     "data": {
      "text/plain": [
       "(1, 3, 64, 48)"
      ]
     },
     "execution_count": 14,
     "metadata": {},
     "output_type": "execute_result"
    }
   ],
   "source": [
    "xtrain.shape"
   ]
  },
  {
   "cell_type": "code",
   "execution_count": 15,
   "metadata": {
    "collapsed": false
   },
   "outputs": [
    {
     "data": {
      "text/plain": [
       "array([[6.806889e-05, 9.999280e-01, 3.877733e-06]], dtype=float32)"
      ]
     },
     "execution_count": 15,
     "metadata": {},
     "output_type": "execute_result"
    }
   ],
   "source": [
    "# It trained on this image, so don't take the predictions as an\n",
    "# indication of the model's accuracy.\n",
    "model.predict_proba(img)"
   ]
  },
  {
   "cell_type": "code",
   "execution_count": 17,
   "metadata": {
    "collapsed": false
   },
   "outputs": [
    {
     "data": {
      "image/png": "[encoded data removed]",
      "text/plain": [
       "<matplotlib.figure.Figure at 0x21700147da0>"
      ]
     },
     "metadata": {},
     "output_type": "display_data"
    }
   ],
   "source": [
    "# Show image\n",
    "\n",
    "image = np.squeeze(img)\n",
    "image = np.swapaxes(image, 0, 1)\n",
    "image = np.swapaxes(image, 2, 1)\n",
    "nev = plt.imshow(image)\n",
    "plt.show()"
   ]
  },
  {
   "cell_type": "code",
   "execution_count": null,
   "metadata": {
    "collapsed": true
   },
   "outputs": [],
   "source": []
  }
 ],
 "metadata": {
  "kernelspec": {
   "display_name": "Python 3",
   "language": "python",
   "name": "python3"
  },
  "language_info": {
   "codemirror_mode": {
    "name": "ipython",
    "version": 3
   },
   "file_extension": ".py",
   "mimetype": "text/x-python",
   "name": "python",
   "nbconvert_exporter": "python",
   "pygments_lexer": "ipython3",
   "version": "3.6.0"
  }
 },
 "nbformat": 4,
 "nbformat_minor": 2
}
